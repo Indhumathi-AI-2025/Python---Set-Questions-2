{
 "cells": [
  {
   "cell_type": "code",
   "execution_count": 6,
   "id": "868eabb5-10e3-4604-b6eb-0e14d2edbfc5",
   "metadata": {},
   "outputs": [],
   "source": [
    "#1.Scenario: You are developing a banking application \n",
    "#that categorizes transactions based on the amount entered.\n",
    "#Write logic to determine whether the amount is positive, negative, or zero.\n",
    "\n",
    "def transaction(amount):\n",
    "    if(amount>0):\n",
    "       print(\"This is a Positive Transaction\")\n",
    "    elif(amount<0):\n",
    "       print(\"This is a Negative Transaction\")          \n",
    "    else:\n",
    "       print(\"This is a Zero Transaction\")"
   ]
  },
  {
   "cell_type": "code",
   "execution_count": 7,
   "id": "309e870c-aabb-4148-9ae5-6e94427641ba",
   "metadata": {},
   "outputs": [
    {
     "name": "stdout",
     "output_type": "stream",
     "text": [
      "This is a Negative Transaction\n"
     ]
    }
   ],
   "source": [
    "transaction(-60)"
   ]
  },
  {
   "cell_type": "code",
   "execution_count": 47,
   "id": "03e1634e-a0e7-4bd2-ac6d-5fe1e8017346",
   "metadata": {},
   "outputs": [
    {
     "name": "stdin",
     "output_type": "stream",
     "text": [
      "Enter Your Passcode:  543216\n"
     ]
    },
    {
     "name": "stdout",
     "output_type": "stream",
     "text": [
      "The Sum of the digits of the passcode is: 21\n"
     ]
    }
   ],
   "source": [
    "# 2.Scenario: A digital locker requires users to enter a numerical passcode. \n",
    "#As part of a security feature, the system checks the sum of the digits of the \n",
    "#passcode.\n",
    "#Write logic to compute the sum of the digits of a given number.\n",
    "\n",
    "passcode = input(\"Enter Your Passcode: \")\n",
    "sum_digits = int(passcode)\n",
    "sum_digits = 0\n",
    "\n",
    "for digit in passcode:\n",
    "    sum_digits += int(digit)\n",
    "\n",
    "print(\"The Sum of the digits of the passcode is:\", sum_digits)"
   ]
  },
  {
   "cell_type": "code",
   "execution_count": 46,
   "id": "c0ee9e90-0337-4627-87fc-1ac4f24bc7c6",
   "metadata": {},
   "outputs": [
    {
     "name": "stdin",
     "output_type": "stream",
     "text": [
      "Enter your Transaction ID: indhu\n"
     ]
    },
    {
     "name": "stdout",
     "output_type": "stream",
     "text": [
      "The Reverse is uhdni\n",
      "uhdni\n"
     ]
    }
   ],
   "source": [
    "#3. Scenario: A mobile payment app uses a simple checksum validation \n",
    "#where reversing a transaction ID helps detect fraud.\n",
    "#Write logic to take a number and return its reverse.\n",
    "\n",
    "#Get the transaction Id from the user\n",
    "transaction_id = input(\"Enter your Transaction ID:\")\n",
    "#Using Python Slicing to reverse the string\n",
    "str_transaction_id = transaction_id[::-1]\n",
    "print(\"The Reverse is\",str_transaction_id)\n",
    "print(str_transaction_id)"
   ]
  },
  {
   "cell_type": "code",
   "execution_count": 27,
   "id": "6a4460c1-4049-4bec-815d-0507800dcae5",
   "metadata": {},
   "outputs": [
    {
     "name": "stdin",
     "output_type": "stream",
     "text": [
      "Enter the Number:  3\n"
     ]
    },
    {
     "name": "stdout",
     "output_type": "stream",
     "text": [
      "The Given Number is a Prime Number\n"
     ]
    }
   ],
   "source": [
    "#4. Scenario: In a secure login system, certain features are \n",
    "#enabled only for users with prime-numbered user IDs.\n",
    "#Write logic to check if a given number is prime.\n",
    "\n",
    "#Get the number from the user\n",
    "number = int(input(\"Enter the Number: \"))\n",
    "if (number<=1):\n",
    "  print (\"Not a Prime Number\")\n",
    "else:\n",
    "    for temp in range(2, number):\n",
    "        if (number % temp ==0):\n",
    "          print(\"Not a Prime Number\")\n",
    "          break\n",
    "        else:\n",
    "          print(\"The Given Number is a Prime Number\")\n"
   ]
  },
  {
   "cell_type": "code",
   "execution_count": 30,
   "id": "7a61bded-1c4f-4958-9ec4-195a56fe9f44",
   "metadata": {},
   "outputs": [],
   "source": [
    "#5.Scenario: A scientist is working on permutations and \n",
    "#needs to calculate the factorial of numbers frequently.\n",
    "#Write logic to find the factorial of a given number using recursion.\n",
    "\n",
    "#Def the function factorial with a parameter n\n",
    "def factorial(n):\n",
    "    formula_factorial = n*(n-1)*(n-2)*(n-3)\n",
    "    return formula_factorial\n",
    "\n"
   ]
  },
  {
   "cell_type": "code",
   "execution_count": 31,
   "id": "3cd811e9-63c4-4383-b81e-e63262e3aaec",
   "metadata": {},
   "outputs": [
    {
     "data": {
      "text/plain": [
       "120"
      ]
     },
     "execution_count": 31,
     "metadata": {},
     "output_type": "execute_result"
    }
   ],
   "source": [
    "factorial(5)"
   ]
  },
  {
   "cell_type": "code",
   "execution_count": 43,
   "id": "df2b8019-ddf4-4514-b63d-ee452c3500dd",
   "metadata": {},
   "outputs": [
    {
     "name": "stdin",
     "output_type": "stream",
     "text": [
      "Enter Your Password:  InDhu@mathi\n"
     ]
    },
    {
     "name": "stdout",
     "output_type": "stream",
     "text": [
      "Your Modified Password is: inDhu@mathI\n"
     ]
    }
   ],
   "source": [
    "#7.Scenario: A password manager needs to strengthen weak passwords by \n",
    "#swapping the first and last characters of user-generated passwords.\n",
    "#Write logic to perform this operation on a given string.\n",
    "\n",
    "#Get the password from the user.\n",
    "password = input(\"Enter Your Password: \")\n",
    "if(len(password)<8):\n",
    "    print(\"Your Password is Weak\")\n",
    "else:\n",
    "    first_character = password[0]\n",
    "    last_character = password[-1]\n",
    "    middle_character = password[1:-1]\n",
    "    modified_character = last_character + middle_character + first_character\n",
    "    print(\"Your Modified Password is:\", modified_character)\n"
   ]
  },
  {
   "cell_type": "code",
   "execution_count": 42,
   "id": "3b0e2919-bf42-4ffd-ae07-c0674994adc5",
   "metadata": {},
   "outputs": [
    {
     "name": "stdin",
     "output_type": "stream",
     "text": [
      "Enter a sentence:  The largest animal in the world is Elephant\n"
     ]
    },
    {
     "name": "stdout",
     "output_type": "stream",
     "text": [
      "The longest word is: Elephant\n"
     ]
    }
   ],
   "source": [
    "#9.Scenario: A text-processing tool helps summarize articles by \n",
    "#identifying the most significant words.\n",
    "#Write logic to find the longest word in a sentence.\n",
    "\n",
    "#Step 1: Read the input sentence\n",
    "sequence = input(\"Enter a sentence: \")\n",
    "#Step 2: Split the sentence into words\n",
    "sequence_new = sequence.split()\n",
    "longest_word = \"\"\n",
    "for word in sequence_new:\n",
    "    if len(word) > len(longest_word):\n",
    "        longest_word = word\n",
    "print(\"The longest word is:\", longest_word)"
   ]
  },
  {
   "cell_type": "code",
   "execution_count": 52,
   "id": "aac7eea6-e603-49fb-8e2f-005b93f9bb7d",
   "metadata": {},
   "outputs": [
    {
     "name": "stdin",
     "output_type": "stream",
     "text": [
      "Enter a decimal number:  234\n"
     ]
    },
    {
     "name": "stdout",
     "output_type": "stream",
     "text": [
      "Binary representation: 11101010\n"
     ]
    }
   ],
   "source": [
    "#8.Scenario: A low-level networking application requires \n",
    "#decimal numbers to be converted into binary format before transmission.\n",
    "#Write logic to convert a given decimal number into its binary equivalent.\n",
    "\n",
    "num = int(input(\"Enter a decimal number: \"))\n",
    "binary = bin(num)[2:]\n",
    "print(\"Binary representation:\", binary)"
   ]
  },
  {
   "cell_type": "code",
   "execution_count": null,
   "id": "ac614f78-1bb7-4a9e-b108-a0712479f68e",
   "metadata": {},
   "outputs": [],
   "source": [
    "#10.Scenario: A plagiarism detection tool compares words from \n",
    "#different documents and checks if they are anagrams \n",
    "#(same characters but different order).\n",
    "#Write logic to check whether two given strings are anagrams.\n",
    "\n",
    "string1 = input(\"Enter the String 1: \")\n",
    "string2 = input(\"Enter the String 2: \")\n",
    "string1 = string1.replace(\" \", \"\").lower()\n",
    "string2 = string2.replace(\" \", \"\").lower()\n",
    "sorted_str1 = sorted(string1)\n",
    "sorted_str2 = sorted(string2)\n",
    "if sorted_str1 == sorted_str2:\n",
    "    print(\"Anagram\")\n",
    "else:\n",
    "    print(\"Not an Anagram\")\n"
   ]
  }
 ],
 "metadata": {
  "kernelspec": {
   "display_name": "Python [conda env:base] *",
   "language": "python",
   "name": "conda-base-py"
  },
  "language_info": {
   "codemirror_mode": {
    "name": "ipython",
    "version": 3
   },
   "file_extension": ".py",
   "mimetype": "text/x-python",
   "name": "python",
   "nbconvert_exporter": "python",
   "pygments_lexer": "ipython3",
   "version": "3.12.7"
  }
 },
 "nbformat": 4,
 "nbformat_minor": 5
}
