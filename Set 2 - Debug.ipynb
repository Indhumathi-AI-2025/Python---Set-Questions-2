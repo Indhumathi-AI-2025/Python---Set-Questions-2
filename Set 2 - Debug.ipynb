{
 "cells": [
  {
   "cell_type": "code",
   "execution_count": null,
   "id": "90e9fa4e",
   "metadata": {},
   "outputs": [],
   "source": [
    "#1.Find the error in the following Python code:\n",
    "import math\n",
    "print(Math.sqrt(16))\n",
    "\n",
    "#ERROR: math module name is wrong in the print statement. \n",
    "#Coorect: print(math.sqrt(16))\n"
   ]
  },
  {
   "cell_type": "code",
   "execution_count": 1,
   "id": "faa07d29-9a41-4661-8358-352b889c8991",
   "metadata": {},
   "outputs": [
    {
     "name": "stdout",
     "output_type": "stream",
     "text": [
      "4.0\n"
     ]
    }
   ],
   "source": [
    "#1.\n",
    "import math\n",
    "print(math.sqrt(16))\n"
   ]
  },
  {
   "cell_type": "code",
   "execution_count": null,
   "id": "55520fd2",
   "metadata": {},
   "outputs": [],
   "source": [
    "#2.Find the error in the following Python code:\n",
    "def my_function():\n",
    "    x += 5\n",
    "    print(x)\n",
    "\n",
    "x = 10\n",
    "my_function()\n",
    "\n",
    "#ERROR: x is defined outside the function\n"
   ]
  },
  {
   "cell_type": "code",
   "execution_count": 3,
   "id": "f9213dde-9b36-4cb9-aff7-90bcddae85c8",
   "metadata": {},
   "outputs": [
    {
     "name": "stdout",
     "output_type": "stream",
     "text": [
      "15\n"
     ]
    }
   ],
   "source": [
    "#2.\n",
    "\n",
    "def my_function():\n",
    "    x = 10\n",
    "    x += 5\n",
    "    print(x)\n",
    "\n",
    "\n",
    "my_function()"
   ]
  },
  {
   "cell_type": "code",
   "execution_count": null,
   "id": "f23899ca",
   "metadata": {},
   "outputs": [],
   "source": [
    "#3.x = 5\n",
    "if x = 10:\n",
    "    print(\"x is 10\")\n",
    "\n",
    "#ERROR: == operator is missing, x = 10 means value 10 is assigning to x, \n",
    "#which is not usable in If\n",
    "\n",
    "#CORRECT: if x == 10:"
   ]
  },
  {
   "cell_type": "code",
   "execution_count": 5,
   "id": "47e8f558-2a76-4c0a-a483-e2295b784c7b",
   "metadata": {},
   "outputs": [],
   "source": [
    "#3.\n",
    "x = 5\n",
    "if x == 10:\n",
    "    print(\"x is 10\")"
   ]
  },
  {
   "cell_type": "code",
   "execution_count": null,
   "id": "c644c2f2",
   "metadata": {},
   "outputs": [],
   "source": [
    "#4.\n",
    "numbers = [5, 3, 8, 2]\n",
    "print(numbers.sort())\n",
    "\n",
    "#ERROR: .sort() is a method. If we print, it returns None. "
   ]
  },
  {
   "cell_type": "code",
   "execution_count": 6,
   "id": "0f9f5f65-37f0-4645-9fee-2d59b7e6a424",
   "metadata": {},
   "outputs": [
    {
     "name": "stdout",
     "output_type": "stream",
     "text": [
      "[2, 3, 5, 8]\n"
     ]
    }
   ],
   "source": [
    "#4.\n",
    "\n",
    "numbers = [5, 3, 8, 2]\n",
    "numbers.sort()\n",
    "print(numbers)"
   ]
  },
  {
   "cell_type": "code",
   "execution_count": null,
   "id": "c6bc9bfb",
   "metadata": {},
   "outputs": [],
   "source": [
    "#5.\n",
    "def square(n):\n",
    "    n * n\n",
    "\n",
    "print(square(4))\n"
   ]
  },
  {
   "cell_type": "code",
   "execution_count": null,
   "id": "ffe648d6-2a9f-4f94-bfd7-317a8246d265",
   "metadata": {},
   "outputs": [],
   "source": [
    "#5.\n",
    "\n",
    "def square(n):\n",
    "    ans = n * n\n",
    "    print(ans)\n",
    "square(4)"
   ]
  },
  {
   "cell_type": "code",
   "execution_count": null,
   "id": "3a9dbcc0",
   "metadata": {},
   "outputs": [],
   "source": [
    "#6.\n",
    "my_tuple = (1, 2, 3)\n",
    "my_tuple[1] = 5\n",
    "\n",
    "#ERROR: Tuples are immutable, we can't add, change or remove values. \n",
    "# CORRECT: We can change the tuple into a list, then modify and then tuple"
   ]
  },
  {
   "cell_type": "code",
   "execution_count": 1,
   "id": "4bd86dc5-5392-42e8-bdd1-c0eb5309ef72",
   "metadata": {},
   "outputs": [
    {
     "name": "stdout",
     "output_type": "stream",
     "text": [
      "[1, 2, 3]\n",
      "[1, 5, 3]\n",
      "(1, 5, 3)\n"
     ]
    }
   ],
   "source": [
    "#6.\n",
    "my_tuple = (1, 2, 3)\n",
    "numbers =list(my_tuple)\n",
    "print(numbers)\n",
    "numbers[1] = 5\n",
    "print(numbers)\n",
    "ans_tuple = tuple(numbers)\n",
    "print(ans_tuple)"
   ]
  },
  {
   "cell_type": "code",
   "execution_count": null,
   "id": "4a72685b",
   "metadata": {},
   "outputs": [],
   "source": [
    "#7.\n",
    "name = \"Alice\"\n",
    "age = 25\n",
    "print(\"My name is %s and I am %d years old\" % (name))\n",
    "\n",
    "#ERROR: Only one variable is passed. Need age also\n",
    "#CORRECT:print(\"My name is %s and I am %d years old\" % (name, age))\n"
   ]
  },
  {
   "cell_type": "code",
   "execution_count": 2,
   "id": "582742d9-90b7-47fc-8864-4b76302f085f",
   "metadata": {},
   "outputs": [
    {
     "name": "stdout",
     "output_type": "stream",
     "text": [
      "My name is Alice and I am 25 years old\n"
     ]
    }
   ],
   "source": [
    "#7.\n",
    "\n",
    "name = \"Alice\"\n",
    "age = 25\n",
    "print(\"My name is %s and I am %d years old\" % (name, age))"
   ]
  },
  {
   "cell_type": "code",
   "execution_count": null,
   "id": "3de969fe",
   "metadata": {},
   "outputs": [],
   "source": [
    "#8.\n",
    "a = [1, 2, 3]\n",
    "b = [1, 2, 3]\n",
    "if a is b:\n",
    "    print(\"Lists are equal\")\n",
    "\n",
    "#ERROR: is is an identity operator, it checks for the memory value. \n",
    "#Here, a & b hold a different memory"
   ]
  },
  {
   "cell_type": "code",
   "execution_count": 4,
   "id": "39a9646c-f96a-4bc6-9658-79dd8ae2f855",
   "metadata": {},
   "outputs": [
    {
     "name": "stdout",
     "output_type": "stream",
     "text": [
      "Lists are not equal\n"
     ]
    }
   ],
   "source": [
    "#8.\n",
    "\n",
    "a = [1, 2, 3]\n",
    "b = [1, 2, 3]\n",
    "if a is b:\n",
    "    print(\"Lists are equal\")\n",
    "else:\n",
    "    print(\"Lists are not equal\")"
   ]
  },
  {
   "cell_type": "code",
   "execution_count": null,
   "id": "dbe38465",
   "metadata": {},
   "outputs": [],
   "source": [
    "#9.\n",
    "for i in range(5, 1):\n",
    "    print(i)\n",
    "\n",
    "#ERROR: To print the range values from back to front, need to give step -1.\n",
    "#CORRECT: for i in range(5, 1,-1):"
   ]
  },
  {
   "cell_type": "code",
   "execution_count": 5,
   "id": "401dcd51-fd73-4204-ac07-6be1aaba5291",
   "metadata": {},
   "outputs": [
    {
     "name": "stdout",
     "output_type": "stream",
     "text": [
      "5\n",
      "4\n",
      "3\n",
      "2\n"
     ]
    }
   ],
   "source": [
    "#9.\n",
    "for i in range(5, 1,-1):\n",
    "    print(i)"
   ]
  },
  {
   "cell_type": "code",
   "execution_count": null,
   "id": "30cb0523",
   "metadata": {},
   "outputs": [],
   "source": [
    "#10.\n",
    "student = {\"name\": \"John\", \"age\": 20}\n",
    "print(student[name])\n",
    "\n",
    "#ERROR: name is a key but here it is like a variable"
   ]
  },
  {
   "cell_type": "code",
   "execution_count": 7,
   "id": "5c266f04-24ae-40f8-b33a-08f892c335b1",
   "metadata": {},
   "outputs": [
    {
     "name": "stdout",
     "output_type": "stream",
     "text": [
      "John\n"
     ]
    }
   ],
   "source": [
    "#10.\n",
    "student = {\"name\": \"John\", \"age\": 20}\n",
    "print(student[\"name\"])"
   ]
  },
  {
   "cell_type": "code",
   "execution_count": null,
   "id": "a01101d0-8b87-4ae1-832a-66175427f430",
   "metadata": {},
   "outputs": [],
   "source": []
  }
 ],
 "metadata": {
  "kernelspec": {
   "display_name": "Python [conda env:base] *",
   "language": "python",
   "name": "conda-base-py"
  },
  "language_info": {
   "codemirror_mode": {
    "name": "ipython",
    "version": 3
   },
   "file_extension": ".py",
   "mimetype": "text/x-python",
   "name": "python",
   "nbconvert_exporter": "python",
   "pygments_lexer": "ipython3",
   "version": "3.12.7"
  }
 },
 "nbformat": 4,
 "nbformat_minor": 5
}
